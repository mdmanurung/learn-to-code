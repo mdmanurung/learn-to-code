{
 "cells": [
  {
   "cell_type": "code",
   "execution_count": 10,
   "metadata": {},
   "outputs": [],
   "source": [
    "import os, pathlib, sys\n",
    "from urllib import request\n",
    "\n",
    "import scanpy as sc\n",
    "#import scvi\n",
    "import numpy as np\n",
    "import pandas as pd"
   ]
  },
  {
   "cell_type": "markdown",
   "metadata": {},
   "source": [
    "## Download data"
   ]
  },
  {
   "cell_type": "markdown",
   "metadata": {},
   "source": [
    "We can download the data from the [developmental cell atlas portal](https://developmental.cellatlas.io/fetal-immune).\n",
    "Here I downloaded the `HSC/progenitor cells` dataset because it's quite small."
   ]
  },
  {
   "cell_type": "code",
   "execution_count": 12,
   "metadata": {},
   "outputs": [
    {
     "data": {
      "text/plain": [
       "('../../data/processed/hsc_progenitors.h5ad',\n",
       " <http.client.HTTPMessage at 0x1cefd6a9c70>)"
      ]
     },
     "execution_count": 12,
     "metadata": {},
     "output_type": "execute_result"
    }
   ],
   "source": [
    "anndata_path = \"https://cellgeni.cog.sanger.ac.uk/developmentcellatlas/fetal-immune/PAN.A01.v01.raw_count.20210429.HSC_PROGENITORS.embedding.h5ad\"\n",
    "download_path = \"../../data/processed/hsc_progenitors.h5ad\"\n",
    "request.urlretrieve(anndata_path, download_path)"
   ]
  },
  {
   "cell_type": "markdown",
   "metadata": {},
   "source": [
    "## EDA"
   ]
  },
  {
   "cell_type": "markdown",
   "metadata": {},
   "source": [
    "Here I am exploring the contents of the downloaded `.h5ad` file."
   ]
  },
  {
   "cell_type": "code",
   "execution_count": 13,
   "metadata": {},
   "outputs": [
    {
     "data": {
      "text/plain": [
       "AnnData object with n_obs × n_vars = 40422 × 33538\n",
       "    obs: 'n_counts', 'n_genes', 'file', 'mito', 'doublet_scores', 'predicted_doublets', 'old_annotation_uniform', 'organ', 'Sort_id', 'age', 'method', 'donor', 'sex', 'Sample', 'scvi_clusters', 'is_maternal_contaminant', 'anno_lvl_2_final_clean', 'celltype_annotation'\n",
       "    var: 'GeneID', 'GeneName', 'highly_variable', 'means', 'dispersions', 'dispersions_norm', 'scvi_model_var'\n",
       "    uns: 'leiden', 'scvi', 'umap'\n",
       "    obsm: 'X_scvi', 'X_umap'\n",
       "    obsp: 'scvi_connectivities', 'scvi_distances'"
      ]
     },
     "execution_count": 13,
     "metadata": {},
     "output_type": "execute_result"
    }
   ],
   "source": [
    "ad = sc.read_h5ad(\"../../data/processed/hsc_progenitors.h5ad\")\n",
    "ad"
   ]
  },
  {
   "cell_type": "code",
   "execution_count": 17,
   "metadata": {},
   "outputs": [
    {
     "data": {
      "text/html": [
       "<div>\n",
       "<style scoped>\n",
       "    .dataframe tbody tr th:only-of-type {\n",
       "        vertical-align: middle;\n",
       "    }\n",
       "\n",
       "    .dataframe tbody tr th {\n",
       "        vertical-align: top;\n",
       "    }\n",
       "\n",
       "    .dataframe thead th {\n",
       "        text-align: right;\n",
       "    }\n",
       "</style>\n",
       "<table border=\"1\" class=\"dataframe\">\n",
       "  <thead>\n",
       "    <tr style=\"text-align: right;\">\n",
       "      <th>index</th>\n",
       "      <th>FCAImmP7579224-TCTTTCCCAAGCCGTC</th>\n",
       "      <th>FCAImmP7579224-GGAATAATCAGGTAAA</th>\n",
       "      <th>FCAImmP7579224-TAGCCGGGTACCATCA</th>\n",
       "      <th>FCAImmP7579224-GCATGCGCAGCTGCAC</th>\n",
       "      <th>FCAImmP7579224-GATGCTATCTCTGCTG</th>\n",
       "    </tr>\n",
       "  </thead>\n",
       "  <tbody>\n",
       "    <tr>\n",
       "      <th>n_counts</th>\n",
       "      <td>28616.0</td>\n",
       "      <td>20510.0</td>\n",
       "      <td>18168.0</td>\n",
       "      <td>14823.0</td>\n",
       "      <td>12947.0</td>\n",
       "    </tr>\n",
       "    <tr>\n",
       "      <th>n_genes</th>\n",
       "      <td>5176</td>\n",
       "      <td>4007</td>\n",
       "      <td>3903</td>\n",
       "      <td>3796</td>\n",
       "      <td>3095</td>\n",
       "    </tr>\n",
       "    <tr>\n",
       "      <th>file</th>\n",
       "      <td>FCAImmP7579224</td>\n",
       "      <td>FCAImmP7579224</td>\n",
       "      <td>FCAImmP7579224</td>\n",
       "      <td>FCAImmP7579224</td>\n",
       "      <td>FCAImmP7579224</td>\n",
       "    </tr>\n",
       "    <tr>\n",
       "      <th>mito</th>\n",
       "      <td>0.035994</td>\n",
       "      <td>0.044174</td>\n",
       "      <td>0.062087</td>\n",
       "      <td>0.046414</td>\n",
       "      <td>0.019927</td>\n",
       "    </tr>\n",
       "    <tr>\n",
       "      <th>doublet_scores</th>\n",
       "      <td>0.152941</td>\n",
       "      <td>0.13369</td>\n",
       "      <td>0.110588</td>\n",
       "      <td>0.164087</td>\n",
       "      <td>0.294118</td>\n",
       "    </tr>\n",
       "    <tr>\n",
       "      <th>predicted_doublets</th>\n",
       "      <td>False</td>\n",
       "      <td>False</td>\n",
       "      <td>False</td>\n",
       "      <td>False</td>\n",
       "      <td>False</td>\n",
       "    </tr>\n",
       "    <tr>\n",
       "      <th>old_annotation_uniform</th>\n",
       "      <td>B CELL</td>\n",
       "      <td>B CELL</td>\n",
       "      <td>B CELL</td>\n",
       "      <td>HSC</td>\n",
       "      <td>B CELL</td>\n",
       "    </tr>\n",
       "    <tr>\n",
       "      <th>organ</th>\n",
       "      <td>SK</td>\n",
       "      <td>SK</td>\n",
       "      <td>SK</td>\n",
       "      <td>SK</td>\n",
       "      <td>SK</td>\n",
       "    </tr>\n",
       "    <tr>\n",
       "      <th>Sort_id</th>\n",
       "      <td>CD45P</td>\n",
       "      <td>CD45P</td>\n",
       "      <td>CD45P</td>\n",
       "      <td>CD45P</td>\n",
       "      <td>CD45P</td>\n",
       "    </tr>\n",
       "    <tr>\n",
       "      <th>age</th>\n",
       "      <td>12</td>\n",
       "      <td>12</td>\n",
       "      <td>12</td>\n",
       "      <td>12</td>\n",
       "      <td>12</td>\n",
       "    </tr>\n",
       "    <tr>\n",
       "      <th>method</th>\n",
       "      <td>5GEX</td>\n",
       "      <td>5GEX</td>\n",
       "      <td>5GEX</td>\n",
       "      <td>5GEX</td>\n",
       "      <td>5GEX</td>\n",
       "    </tr>\n",
       "    <tr>\n",
       "      <th>donor</th>\n",
       "      <td>F45</td>\n",
       "      <td>F45</td>\n",
       "      <td>F45</td>\n",
       "      <td>F45</td>\n",
       "      <td>F45</td>\n",
       "    </tr>\n",
       "    <tr>\n",
       "      <th>sex</th>\n",
       "      <td>female</td>\n",
       "      <td>female</td>\n",
       "      <td>female</td>\n",
       "      <td>female</td>\n",
       "      <td>female</td>\n",
       "    </tr>\n",
       "    <tr>\n",
       "      <th>Sample</th>\n",
       "      <td>F45_SK_CD45P_FCAImmP7579224</td>\n",
       "      <td>F45_SK_CD45P_FCAImmP7579224</td>\n",
       "      <td>F45_SK_CD45P_FCAImmP7579224</td>\n",
       "      <td>F45_SK_CD45P_FCAImmP7579224</td>\n",
       "      <td>F45_SK_CD45P_FCAImmP7579224</td>\n",
       "    </tr>\n",
       "    <tr>\n",
       "      <th>scvi_clusters</th>\n",
       "      <td>17</td>\n",
       "      <td>8</td>\n",
       "      <td>13</td>\n",
       "      <td>11</td>\n",
       "      <td>8</td>\n",
       "    </tr>\n",
       "    <tr>\n",
       "      <th>is_maternal_contaminant</th>\n",
       "      <td>False</td>\n",
       "      <td>False</td>\n",
       "      <td>False</td>\n",
       "      <td>False</td>\n",
       "      <td>False</td>\n",
       "    </tr>\n",
       "    <tr>\n",
       "      <th>anno_lvl_2_final_clean</th>\n",
       "      <td>PRE_PRO_B</td>\n",
       "      <td>PRE_PRO_B</td>\n",
       "      <td>LMPP_MLP</td>\n",
       "      <td>MEMP</td>\n",
       "      <td>PRE_PRO_B</td>\n",
       "    </tr>\n",
       "    <tr>\n",
       "      <th>celltype_annotation</th>\n",
       "      <td>PRE_PRO_B</td>\n",
       "      <td>PRE_PRO_B</td>\n",
       "      <td>LMPP_MLP</td>\n",
       "      <td>MEMP</td>\n",
       "      <td>PRE_PRO_B</td>\n",
       "    </tr>\n",
       "  </tbody>\n",
       "</table>\n",
       "</div>"
      ],
      "text/plain": [
       "index                   FCAImmP7579224-TCTTTCCCAAGCCGTC  \\\n",
       "n_counts                                        28616.0   \n",
       "n_genes                                            5176   \n",
       "file                                     FCAImmP7579224   \n",
       "mito                                           0.035994   \n",
       "doublet_scores                                 0.152941   \n",
       "predicted_doublets                                False   \n",
       "old_annotation_uniform                           B CELL   \n",
       "organ                                                SK   \n",
       "Sort_id                                           CD45P   \n",
       "age                                                  12   \n",
       "method                                             5GEX   \n",
       "donor                                               F45   \n",
       "sex                                              female   \n",
       "Sample                      F45_SK_CD45P_FCAImmP7579224   \n",
       "scvi_clusters                                        17   \n",
       "is_maternal_contaminant                           False   \n",
       "anno_lvl_2_final_clean                        PRE_PRO_B   \n",
       "celltype_annotation                           PRE_PRO_B   \n",
       "\n",
       "index                   FCAImmP7579224-GGAATAATCAGGTAAA  \\\n",
       "n_counts                                        20510.0   \n",
       "n_genes                                            4007   \n",
       "file                                     FCAImmP7579224   \n",
       "mito                                           0.044174   \n",
       "doublet_scores                                  0.13369   \n",
       "predicted_doublets                                False   \n",
       "old_annotation_uniform                           B CELL   \n",
       "organ                                                SK   \n",
       "Sort_id                                           CD45P   \n",
       "age                                                  12   \n",
       "method                                             5GEX   \n",
       "donor                                               F45   \n",
       "sex                                              female   \n",
       "Sample                      F45_SK_CD45P_FCAImmP7579224   \n",
       "scvi_clusters                                         8   \n",
       "is_maternal_contaminant                           False   \n",
       "anno_lvl_2_final_clean                        PRE_PRO_B   \n",
       "celltype_annotation                           PRE_PRO_B   \n",
       "\n",
       "index                   FCAImmP7579224-TAGCCGGGTACCATCA  \\\n",
       "n_counts                                        18168.0   \n",
       "n_genes                                            3903   \n",
       "file                                     FCAImmP7579224   \n",
       "mito                                           0.062087   \n",
       "doublet_scores                                 0.110588   \n",
       "predicted_doublets                                False   \n",
       "old_annotation_uniform                           B CELL   \n",
       "organ                                                SK   \n",
       "Sort_id                                           CD45P   \n",
       "age                                                  12   \n",
       "method                                             5GEX   \n",
       "donor                                               F45   \n",
       "sex                                              female   \n",
       "Sample                      F45_SK_CD45P_FCAImmP7579224   \n",
       "scvi_clusters                                        13   \n",
       "is_maternal_contaminant                           False   \n",
       "anno_lvl_2_final_clean                         LMPP_MLP   \n",
       "celltype_annotation                            LMPP_MLP   \n",
       "\n",
       "index                   FCAImmP7579224-GCATGCGCAGCTGCAC  \\\n",
       "n_counts                                        14823.0   \n",
       "n_genes                                            3796   \n",
       "file                                     FCAImmP7579224   \n",
       "mito                                           0.046414   \n",
       "doublet_scores                                 0.164087   \n",
       "predicted_doublets                                False   \n",
       "old_annotation_uniform                              HSC   \n",
       "organ                                                SK   \n",
       "Sort_id                                           CD45P   \n",
       "age                                                  12   \n",
       "method                                             5GEX   \n",
       "donor                                               F45   \n",
       "sex                                              female   \n",
       "Sample                      F45_SK_CD45P_FCAImmP7579224   \n",
       "scvi_clusters                                        11   \n",
       "is_maternal_contaminant                           False   \n",
       "anno_lvl_2_final_clean                             MEMP   \n",
       "celltype_annotation                                MEMP   \n",
       "\n",
       "index                   FCAImmP7579224-GATGCTATCTCTGCTG  \n",
       "n_counts                                        12947.0  \n",
       "n_genes                                            3095  \n",
       "file                                     FCAImmP7579224  \n",
       "mito                                           0.019927  \n",
       "doublet_scores                                 0.294118  \n",
       "predicted_doublets                                False  \n",
       "old_annotation_uniform                           B CELL  \n",
       "organ                                                SK  \n",
       "Sort_id                                           CD45P  \n",
       "age                                                  12  \n",
       "method                                             5GEX  \n",
       "donor                                               F45  \n",
       "sex                                              female  \n",
       "Sample                      F45_SK_CD45P_FCAImmP7579224  \n",
       "scvi_clusters                                         8  \n",
       "is_maternal_contaminant                           False  \n",
       "anno_lvl_2_final_clean                        PRE_PRO_B  \n",
       "celltype_annotation                           PRE_PRO_B  "
      ]
     },
     "execution_count": 17,
     "metadata": {},
     "output_type": "execute_result"
    }
   ],
   "source": [
    "ad.obs.head().T"
   ]
  },
  {
   "cell_type": "code",
   "execution_count": 26,
   "metadata": {},
   "outputs": [
    {
     "name": "stdout",
     "output_type": "stream",
     "text": [
      "Number of donors: 25\n",
      "Number of annotated cell types: 16\n"
     ]
    }
   ],
   "source": [
    "print(f\"Number of donors: {ad.obs.donor.nunique()}\")\n",
    "print(f\"Number of annotated cell types: {ad.obs.celltype_annotation.nunique()}\")"
   ]
  },
  {
   "cell_type": "code",
   "execution_count": 32,
   "metadata": {},
   "outputs": [
    {
     "data": {
      "text/plain": [
       "sex\n",
       "female    17\n",
       "male       6\n",
       "nan        2\n",
       "Name: donor, dtype: int64"
      ]
     },
     "execution_count": 32,
     "metadata": {},
     "output_type": "execute_result"
    }
   ],
   "source": [
    "ad.obs.groupby(\"sex\").donor.nunique()"
   ]
  },
  {
   "cell_type": "code",
   "execution_count": 27,
   "metadata": {},
   "outputs": [
    {
     "data": {
      "text/plain": [
       "DN(P)_T          9810\n",
       "EARLY_MK         4740\n",
       "GMP              3862\n",
       "HSC_MPP          3403\n",
       "PRE_PRO_B        3019\n",
       "CYCLING_MPP      2374\n",
       "PROMONOCYTE      2324\n",
       "CMP              1972\n",
       "MEMP             1936\n",
       "DN(early)_T      1670\n",
       "MEP              1408\n",
       "LMPP_MLP         1395\n",
       "CYCLING_MEMP      922\n",
       "PROMYELOCYTE      834\n",
       "DOUBLET_ERY_B     751\n",
       "nan                 2\n",
       "Name: celltype_annotation, dtype: int64"
      ]
     },
     "execution_count": 27,
     "metadata": {},
     "output_type": "execute_result"
    }
   ],
   "source": [
    "ad.obs.celltype_annotation.value_counts()"
   ]
  }
 ],
 "metadata": {
  "interpreter": {
   "hash": "284f5f054f64835bdab662923b620cba2fb55409908f65ab608329f4f0bea86f"
  },
  "kernelspec": {
   "display_name": "Python 3.9.0 ('learn-to-code')",
   "language": "python",
   "name": "python3"
  },
  "language_info": {
   "codemirror_mode": {
    "name": "ipython",
    "version": 3
   },
   "file_extension": ".py",
   "mimetype": "text/x-python",
   "name": "python",
   "nbconvert_exporter": "python",
   "pygments_lexer": "ipython3",
   "version": "3.9.0"
  },
  "orig_nbformat": 4
 },
 "nbformat": 4,
 "nbformat_minor": 2
}
